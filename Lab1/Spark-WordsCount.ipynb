{
  "nbformat": 4,
  "nbformat_minor": 0,
  "metadata": {
    "colab": {
      "name": "Untitled1.ipynb",
      "provenance": [],
      "collapsed_sections": [],
      "toc_visible": true
    },
    "kernelspec": {
      "name": "python3",
      "display_name": "Python 3"
    }
  },
  "cells": [
    {
      "cell_type": "code",
      "metadata": {
        "colab": {
          "base_uri": "https://localhost:8080/"
        },
        "id": "had0M9TQ_TV1",
        "outputId": "b58606fd-3c26-48e3-f50e-6db617631730"
      },
      "source": [
        "!pip install pyspark\n"
      ],
      "execution_count": 1,
      "outputs": [
        {
          "output_type": "stream",
          "text": [
            "Collecting pyspark\n",
            "\u001b[?25l  Downloading https://files.pythonhosted.org/packages/f0/26/198fc8c0b98580f617cb03cb298c6056587b8f0447e20fa40c5b634ced77/pyspark-3.0.1.tar.gz (204.2MB)\n",
            "\u001b[K     |████████████████████████████████| 204.2MB 67kB/s \n",
            "\u001b[?25hCollecting py4j==0.10.9\n",
            "\u001b[?25l  Downloading https://files.pythonhosted.org/packages/9e/b6/6a4fb90cd235dc8e265a6a2067f2a2c99f0d91787f06aca4bcf7c23f3f80/py4j-0.10.9-py2.py3-none-any.whl (198kB)\n",
            "\u001b[K     |████████████████████████████████| 204kB 51.1MB/s \n",
            "\u001b[?25hBuilding wheels for collected packages: pyspark\n",
            "  Building wheel for pyspark (setup.py) ... \u001b[?25l\u001b[?25hdone\n",
            "  Created wheel for pyspark: filename=pyspark-3.0.1-py2.py3-none-any.whl size=204612242 sha256=09a706541ab18da561a73590ff827b27614dccbebd5ece30db857c75f53b9436\n",
            "  Stored in directory: /root/.cache/pip/wheels/5e/bd/07/031766ca628adec8435bb40f0bd83bb676ce65ff4007f8e73f\n",
            "Successfully built pyspark\n",
            "Installing collected packages: py4j, pyspark\n",
            "Successfully installed py4j-0.10.9 pyspark-3.0.1\n"
          ],
          "name": "stdout"
        }
      ]
    },
    {
      "cell_type": "code",
      "metadata": {
        "colab": {
          "base_uri": "https://localhost:8080/"
        },
        "id": "-Zjb7ptiAlDi",
        "outputId": "ca3bedbe-e4bd-4888-a312-515dcc69c9e2"
      },
      "source": [
        "import collections\n",
        "import sys\n",
        " \n",
        "from pyspark import SparkContext, SparkConf\n",
        "\n",
        "if __name__ == \"__main__\":\n",
        "  conf = SparkConf().setMaster(\"local\").setAppName(\"Word Count\")\n",
        "  sc = SparkContext.getOrCreate(conf = conf)\n",
        "\n",
        "\n",
        "  words = sc.textFile(\"/test.txt\").flatMap(lambda line: line.split(\" \"))\n",
        "  wordCounts = words.map(lambda word: (word,1)).reduceByKey(lambda x,y : x + y)\n",
        "\n",
        "  print (max(wordCounts.collect()))\n",
        "    \n",
        "\n"
      ],
      "execution_count": 65,
      "outputs": [
        {
          "output_type": "stream",
          "text": [
            "('you', 2)\n"
          ],
          "name": "stdout"
        }
      ]
    },
    {
      "cell_type": "code",
      "metadata": {
        "id": "2AXBy7DiQQ8k",
        "colab": {
          "base_uri": "https://localhost:8080/"
        },
        "outputId": "950035fc-ab5b-4fd2-fc9d-a743da20b18d"
      },
      "source": [
        "data = [\n",
        "    [0, [199705, 213905, 212829, 13457, 111686, 607393, 872608, 732377]],\n",
        "    [1, [347154, 517159, 919812, 929796, 522835, 759868, 683323, 445616]],\n",
        "]\n",
        "\n",
        "print(max(max(u[1]) for u in data))"
      ],
      "execution_count": 44,
      "outputs": [
        {
          "output_type": "stream",
          "text": [
            "929796\n"
          ],
          "name": "stdout"
        }
      ]
    }
  ]
}